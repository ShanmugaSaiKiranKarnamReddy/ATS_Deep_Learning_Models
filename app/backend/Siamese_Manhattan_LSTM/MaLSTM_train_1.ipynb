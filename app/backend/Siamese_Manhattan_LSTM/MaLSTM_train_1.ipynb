{
 "cells": [
  {
   "cell_type": "code",
   "execution_count": null,
   "metadata": {
    "colab": {
     "base_uri": "https://localhost:8080/",
     "height": 35
    },
    "colab_type": "code",
    "id": "Yl3siDA5C9FN",
    "outputId": "6bdca9cb-0d41-442d-985f-a368e7439e61"
   },
   "outputs": [
    {
     "data": {
      "application/vnd.google.colaboratory.intrinsic+json": {
       "type": "string"
      },
      "text/plain": [
       "'/device:GPU:0'"
      ]
     },
     "execution_count": 59,
     "metadata": {
      "tags": []
     },
     "output_type": "execute_result"
    }
   ],
   "source": [
    "import tensorflow as tf\n",
    "tf.test.gpu_device_name()"
   ]
  },
  {
   "cell_type": "code",
   "execution_count": null,
   "metadata": {
    "colab": {
     "base_uri": "https://localhost:8080/",
     "height": 54
    },
    "colab_type": "code",
    "id": "MoN_s9umqOnx",
    "outputId": "75ab4f46-f932-45d0-ebd5-8a96e1fc73a9"
   },
   "outputs": [
    {
     "name": "stdout",
     "output_type": "stream",
     "text": [
      "Drive already mounted at /content/drive; to attempt to forcibly remount, call drive.mount(\"/content/drive\", force_remount=True).\n"
     ]
    }
   ],
   "source": [
    "from google.colab import drive\n",
    "drive.mount('/content/drive')"
   ]
  },
  {
   "cell_type": "code",
   "execution_count": null,
   "metadata": {
    "colab": {
     "base_uri": "https://localhost:8080/",
     "height": 34
    },
    "colab_type": "code",
    "id": "5B8P8nymwuJ2",
    "outputId": "86f7db80-8b42-48a9-c19f-73292a31f719"
   },
   "outputs": [
    {
     "name": "stdout",
     "output_type": "stream",
     "text": [
      "ls: cannot access '/content/drive/My Drive/Application Tracking System - Neural Networks/*.py': No such file or directory\n"
     ]
    }
   ],
   "source": [
    "!ls '/content/drive/My Drive/Application Tracking System - Neural Networks/*.py'"
   ]
  },
  {
   "cell_type": "code",
   "execution_count": null,
   "metadata": {
    "colab": {
     "base_uri": "https://localhost:8080/",
     "height": 476
    },
    "colab_type": "code",
    "id": "rw4D-kEUEeMs",
    "outputId": "8b86b06c-7371-441e-8b9d-12d280c6799f"
   },
   "outputs": [
    {
     "data": {
      "text/plain": [
       "[name: \"/device:CPU:0\"\n",
       " device_type: \"CPU\"\n",
       " memory_limit: 268435456\n",
       " locality {\n",
       " }\n",
       " incarnation: 15263643862222809525, name: \"/device:XLA_CPU:0\"\n",
       " device_type: \"XLA_CPU\"\n",
       " memory_limit: 17179869184\n",
       " locality {\n",
       " }\n",
       " incarnation: 10280555851267004443\n",
       " physical_device_desc: \"device: XLA_CPU device\", name: \"/device:XLA_GPU:0\"\n",
       " device_type: \"XLA_GPU\"\n",
       " memory_limit: 17179869184\n",
       " locality {\n",
       " }\n",
       " incarnation: 4276113434270353722\n",
       " physical_device_desc: \"device: XLA_GPU device\", name: \"/device:GPU:0\"\n",
       " device_type: \"GPU\"\n",
       " memory_limit: 14640891840\n",
       " locality {\n",
       "   bus_id: 1\n",
       "   links {\n",
       "   }\n",
       " }\n",
       " incarnation: 4414209745175361888\n",
       " physical_device_desc: \"device: 0, name: Tesla T4, pci bus id: 0000:00:04.0, compute capability: 7.5\"]"
      ]
     },
     "execution_count": 4,
     "metadata": {
      "tags": []
     },
     "output_type": "execute_result"
    }
   ],
   "source": [
    "from tensorflow.python.client import device_lib\n",
    "device_lib.list_local_devices()"
   ]
  },
  {
   "cell_type": "code",
   "execution_count": null,
   "metadata": {
    "colab": {
     "base_uri": "https://localhost:8080/",
     "height": 816
    },
    "colab_type": "code",
    "id": "yUGZtjEul5nt",
    "outputId": "91b93176-c02b-45a7-c7d9-61cd4d44cf9a"
   },
   "outputs": [
    {
     "name": "stdout",
     "output_type": "stream",
     "text": [
      "MemTotal:       13333552 kB\n",
      "MemFree:         9437804 kB\n",
      "MemAvailable:   11917264 kB\n",
      "Buffers:           82512 kB\n",
      "Cached:          2429348 kB\n",
      "SwapCached:            0 kB\n",
      "Active:          1183956 kB\n",
      "Inactive:        2318464 kB\n",
      "Active(anon):     837496 kB\n",
      "Inactive(anon):     8540 kB\n",
      "Active(file):     346460 kB\n",
      "Inactive(file):  2309924 kB\n",
      "Unevictable:           0 kB\n",
      "Mlocked:               0 kB\n",
      "SwapTotal:             0 kB\n",
      "SwapFree:              0 kB\n",
      "Dirty:               768 kB\n",
      "Writeback:             0 kB\n",
      "AnonPages:        990512 kB\n",
      "Mapped:           543832 kB\n",
      "Shmem:              9168 kB\n",
      "Slab:             174468 kB\n",
      "SReclaimable:     127812 kB\n",
      "SUnreclaim:        46656 kB\n",
      "KernelStack:        4944 kB\n",
      "PageTables:         8680 kB\n",
      "NFS_Unstable:          0 kB\n",
      "Bounce:                0 kB\n",
      "WritebackTmp:          0 kB\n",
      "CommitLimit:     6666776 kB\n",
      "Committed_AS:    3688228 kB\n",
      "VmallocTotal:   34359738367 kB\n",
      "VmallocUsed:           0 kB\n",
      "VmallocChunk:          0 kB\n",
      "Percpu:              952 kB\n",
      "AnonHugePages:         0 kB\n",
      "ShmemHugePages:        0 kB\n",
      "ShmemPmdMapped:        0 kB\n",
      "HugePages_Total:       0\n",
      "HugePages_Free:        0\n",
      "HugePages_Rsvd:        0\n",
      "HugePages_Surp:        0\n",
      "Hugepagesize:       2048 kB\n",
      "Hugetlb:               0 kB\n",
      "DirectMap4k:      177340 kB\n",
      "DirectMap2M:     7161856 kB\n",
      "DirectMap1G:     8388608 kB\n"
     ]
    }
   ],
   "source": [
    "!cat /proc/meminfo"
   ]
  },
  {
   "cell_type": "code",
   "execution_count": null,
   "metadata": {
    "colab": {
     "base_uri": "https://localhost:8080/",
     "height": 955
    },
    "colab_type": "code",
    "id": "zJUDNGOMmPtR",
    "outputId": "952d280a-85a8-4a79-b50f-3c0dba82e402"
   },
   "outputs": [
    {
     "name": "stdout",
     "output_type": "stream",
     "text": [
      "processor\t: 0\n",
      "vendor_id\t: GenuineIntel\n",
      "cpu family\t: 6\n",
      "model\t\t: 79\n",
      "model name\t: Intel(R) Xeon(R) CPU @ 2.20GHz\n",
      "stepping\t: 0\n",
      "microcode\t: 0x1\n",
      "cpu MHz\t\t: 2200.000\n",
      "cache size\t: 56320 KB\n",
      "physical id\t: 0\n",
      "siblings\t: 2\n",
      "core id\t\t: 0\n",
      "cpu cores\t: 1\n",
      "apicid\t\t: 0\n",
      "initial apicid\t: 0\n",
      "fpu\t\t: yes\n",
      "fpu_exception\t: yes\n",
      "cpuid level\t: 13\n",
      "wp\t\t: yes\n",
      "flags\t\t: fpu vme de pse tsc msr pae mce cx8 apic sep mtrr pge mca cmov pat pse36 clflush mmx fxsr sse sse2 ss ht syscall nx pdpe1gb rdtscp lm constant_tsc rep_good nopl xtopology nonstop_tsc cpuid tsc_known_freq pni pclmulqdq ssse3 fma cx16 pcid sse4_1 sse4_2 x2apic movbe popcnt aes xsave avx f16c rdrand hypervisor lahf_lm abm 3dnowprefetch invpcid_single ssbd ibrs ibpb stibp fsgsbase tsc_adjust bmi1 hle avx2 smep bmi2 erms invpcid rtm rdseed adx smap xsaveopt arat md_clear arch_capabilities\n",
      "bugs\t\t: cpu_meltdown spectre_v1 spectre_v2 spec_store_bypass l1tf mds swapgs taa\n",
      "bogomips\t: 4400.00\n",
      "clflush size\t: 64\n",
      "cache_alignment\t: 64\n",
      "address sizes\t: 46 bits physical, 48 bits virtual\n",
      "power management:\n",
      "\n",
      "processor\t: 1\n",
      "vendor_id\t: GenuineIntel\n",
      "cpu family\t: 6\n",
      "model\t\t: 79\n",
      "model name\t: Intel(R) Xeon(R) CPU @ 2.20GHz\n",
      "stepping\t: 0\n",
      "microcode\t: 0x1\n",
      "cpu MHz\t\t: 2200.000\n",
      "cache size\t: 56320 KB\n",
      "physical id\t: 0\n",
      "siblings\t: 2\n",
      "core id\t\t: 0\n",
      "cpu cores\t: 1\n",
      "apicid\t\t: 1\n",
      "initial apicid\t: 1\n",
      "fpu\t\t: yes\n",
      "fpu_exception\t: yes\n",
      "cpuid level\t: 13\n",
      "wp\t\t: yes\n",
      "flags\t\t: fpu vme de pse tsc msr pae mce cx8 apic sep mtrr pge mca cmov pat pse36 clflush mmx fxsr sse sse2 ss ht syscall nx pdpe1gb rdtscp lm constant_tsc rep_good nopl xtopology nonstop_tsc cpuid tsc_known_freq pni pclmulqdq ssse3 fma cx16 pcid sse4_1 sse4_2 x2apic movbe popcnt aes xsave avx f16c rdrand hypervisor lahf_lm abm 3dnowprefetch invpcid_single ssbd ibrs ibpb stibp fsgsbase tsc_adjust bmi1 hle avx2 smep bmi2 erms invpcid rtm rdseed adx smap xsaveopt arat md_clear arch_capabilities\n",
      "bugs\t\t: cpu_meltdown spectre_v1 spectre_v2 spec_store_bypass l1tf mds swapgs taa\n",
      "bogomips\t: 4400.00\n",
      "clflush size\t: 64\n",
      "cache_alignment\t: 64\n",
      "address sizes\t: 46 bits physical, 48 bits virtual\n",
      "power management:\n",
      "\n"
     ]
    }
   ],
   "source": [
    "!cat /proc/cpuinfo"
   ]
  },
  {
   "cell_type": "code",
   "execution_count": null,
   "metadata": {
    "colab": {
     "base_uri": "https://localhost:8080/",
     "height": 119
    },
    "colab_type": "code",
    "id": "nseQqta5mV8l",
    "outputId": "b92778eb-1eb0-4c8f-819a-7527b55e15e8"
   },
   "outputs": [
    {
     "name": "stdout",
     "output_type": "stream",
     "text": [
      "Requirement already satisfied: keras in /usr/local/lib/python3.6/dist-packages (2.4.3)\n",
      "Requirement already satisfied: numpy>=1.9.1 in /usr/local/lib/python3.6/dist-packages (from keras) (1.18.5)\n",
      "Requirement already satisfied: h5py in /usr/local/lib/python3.6/dist-packages (from keras) (2.10.0)\n",
      "Requirement already satisfied: pyyaml in /usr/local/lib/python3.6/dist-packages (from keras) (3.13)\n",
      "Requirement already satisfied: scipy>=0.14 in /usr/local/lib/python3.6/dist-packages (from keras) (1.4.1)\n",
      "Requirement already satisfied: six in /usr/local/lib/python3.6/dist-packages (from h5py->keras) (1.15.0)\n"
     ]
    }
   ],
   "source": [
    "!pip install keras\n"
   ]
  },
  {
   "cell_type": "code",
   "execution_count": null,
   "metadata": {
    "colab": {},
    "colab_type": "code",
    "id": "wgkLc6aftVZu"
   },
   "outputs": [],
   "source": [
    "import sys\n",
    "sys.path.append('/content/gdrive/My Drive')"
   ]
  },
  {
   "cell_type": "code",
   "execution_count": null,
   "metadata": {
    "colab": {
     "base_uri": "https://localhost:8080/",
     "height": 34
    },
    "colab_type": "code",
    "id": "GThRt7eey3IY",
    "outputId": "2e2289b0-0deb-4808-e619-91be2cfda79d"
   },
   "outputs": [
    {
     "name": "stdout",
     "output_type": "stream",
     "text": [
      "/content/drive/My Drive/Application Tracking System - Neural Networks\n"
     ]
    }
   ],
   "source": [
    "cd /content/drive/My Drive/Application Tracking System - Neural Networks"
   ]
  },
  {
   "cell_type": "code",
   "execution_count": null,
   "metadata": {
    "colab": {
     "base_uri": "https://localhost:8080/",
     "height": 1000
    },
    "colab_type": "code",
    "id": "IauPvOUHz5Ls",
    "outputId": "f858dbfd-1ea5-4452-dae8-f58b33b5f253"
   },
   "outputs": [
    {
     "name": "stdout",
     "output_type": "stream",
     "text": [
      "import re\n",
      "\n",
      "from tensorflow.python.keras import backend as K\n",
      "from tensorflow.python.keras.layers import Layer\n",
      "from tensorflow.python.keras.preprocessing.sequence import pad_sequences\n",
      "\n",
      "from nltk.corpus import stopwords\n",
      "from gensim.models import KeyedVectors\n",
      "\n",
      "import gensim\n",
      "\n",
      "import numpy as np\n",
      "\n",
      "import itertools\n",
      "\n",
      "EMBEDDING_FILE = './data/Resume_JD_new_13.w2v'\n",
      "\n",
      "def text_to_word_list(text):\n",
      "    # Pre process and convert texts to a list of words\n",
      "    text = str(text)\n",
      "    text = text.lower()\n",
      "\n",
      "    # Clean the text\n",
      "    text = re.sub(r\"[^A-Za-z0-9^,!.\\/'+-=]\", \" \", text)\n",
      "    text = re.sub(r\"what's\", \"what is \", text)\n",
      "    text = re.sub(r\"\\'s\", \" \", text)\n",
      "    text = re.sub(r\"\\'ve\", \" have \", text)\n",
      "    text = re.sub(r\"can't\", \"cannot \", text)\n",
      "    text = re.sub(r\"n't\", \" not \", text)\n",
      "    text = re.sub(r\"i'm\", \"i am \", text)\n",
      "    text = re.sub(r\"\\'re\", \" are \", text)\n",
      "    text = re.sub(r\"\\'d\", \" would \", text)\n",
      "    text = re.sub(r\"\\'ll\", \" will \", text)\n",
      "    text = re.sub(r\",\", \" \", text)\n",
      "    text = re.sub(r\"\\.\", \" \", text)\n",
      "    text = re.sub(r\"!\", \" ! \", text)\n",
      "    text = re.sub(r\"\\/\", \" \", text)\n",
      "    text = re.sub(r\"\\^\", \" ^ \", text)\n",
      "    text = re.sub(r\"\\+\", \" + \", text)\n",
      "    text = re.sub(r\"\\-\", \" - \", text)\n",
      "    text = re.sub(r\"\\=\", \" = \", text)\n",
      "    text = re.sub(r\"'\", \" \", text)\n",
      "    text = re.sub(r\"(\\d+)(k)\", r\"\\g<1>000\", text)\n",
      "    text = re.sub(r\":\", \" : \", text)\n",
      "    text = re.sub(r\" e g \", \" eg \", text)\n",
      "    text = re.sub(r\" b g \", \" bg \", text)\n",
      "    text = re.sub(r\" u s \", \" american \", text)\n",
      "    text = re.sub(r\"\\0s\", \"0\", text)\n",
      "    text = re.sub(r\" 9 11 \", \"911\", text)\n",
      "    text = re.sub(r\"e - mail\", \"email\", text)\n",
      "    text = re.sub(r\"j k\", \"jk\", text)\n",
      "    text = re.sub(r\"\\s{2,}\", \" \", text)\n",
      "\n",
      "    text = text.split()\n",
      "\n",
      "    return text\n",
      "\n",
      "\n",
      "def make_w2v_embeddings(df, embedding_dim=300, empty_w2v=False):\n",
      "    vocabs = {}\n",
      "    vocabs_cnt = 0\n",
      "\n",
      "    vocabs_not_w2v = {}\n",
      "    vocabs_not_w2v_cnt = 0\n",
      "\n",
      "    # Stopwords\n",
      "    stops = set(stopwords.words('english'))\n",
      "\n",
      "    # Load word2vec\n",
      "    print(\"Loading word2vec model(it may takes 2-3 mins) ...\")\n",
      "\n",
      "    if empty_w2v:\n",
      "        word2vec = EmptyWord2Vec\n",
      "    else:\n",
      "        word2vec = KeyedVectors.load_word2vec_format(EMBEDDING_FILE, binary=True)\n",
      "                    \n",
      "    for index, row in df.iterrows():\n",
      "        # Print the number of embedded sentences.\n",
      "        if index != 0 and index % 1000 == 0:\n",
      "            print(\"{:,} sentences embedded.\".format(index), flush=True)\n",
      "\n",
      "        # Iterate through the text of both questions of the row\n",
      "        for question in ['Resume', 'JD']:\n",
      "\n",
      "            q2n = []  # q2n -> question numbers representation\n",
      "            for word in text_to_word_list(row[question]):\n",
      "                # Check for unwanted words\n",
      "                if word in stops:\n",
      "                    continue\n",
      "\n",
      "                # If a word is missing from word2vec model.\n",
      "                if word not in word2vec.vocab:\n",
      "                    if word not in vocabs_not_w2v:\n",
      "                        vocabs_not_w2v_cnt += 1\n",
      "                        vocabs_not_w2v[word] = 1\n",
      "\n",
      "                # If you have never seen a word, append it to vocab dictionary.\n",
      "                if word not in vocabs:\n",
      "                    vocabs_cnt += 1\n",
      "                    vocabs[word] = vocabs_cnt\n",
      "                    q2n.append(vocabs_cnt)\n",
      "                else:\n",
      "                    q2n.append(vocabs[word])\n",
      "\n",
      "            # Append question as number representation\n",
      "            df.at[index, question + '_n'] = q2n\n",
      "\n",
      "    embeddings = 1 * np.random.randn(len(vocabs) + 1, embedding_dim)  # This will be the embedding matrix\n",
      "    embeddings[0] = 0  # So that the padding will be ignored\n",
      "\n",
      "    # Build the embedding matrix\n",
      "    for word, index in vocabs.items():\n",
      "        if word in word2vec.vocab:\n",
      "            embeddings[index] = word2vec.word_vec(word)\n",
      "    del word2vec\n",
      "\n",
      "    return df, embeddings\n",
      "\n",
      "\n",
      "def split_and_zero_padding(df, max_seq_length):\n",
      "    # Split to dicts\n",
      "    X = {'left': df['Resume_n'], 'right': df['JD_n']}\n",
      "\n",
      "    # Zero padding\n",
      "    for dataset, side in itertools.product([X], ['left', 'right']):\n",
      "        dataset[side] = pad_sequences(dataset[side], padding='pre', truncating='post', maxlen=max_seq_length)\n",
      "\n",
      "    return dataset\n",
      "\n",
      "\n",
      "#  --\n",
      "\n",
      "class ManDist(Layer):\n",
      "    \"\"\"\n",
      "    Keras Custom Layer that calculates Manhattan Distance.\n",
      "    \"\"\"\n",
      "\n",
      "    # initialize the layer, No need to include inputs parameter!\n",
      "    def __init__(self, **kwargs):\n",
      "        self.result = None\n",
      "        super(ManDist, self).__init__(**kwargs)\n",
      "\n",
      "    # input_shape will automatic collect input shapes to build layer\n",
      "    def build(self, input_shape):\n",
      "        super(ManDist, self).build(input_shape)\n",
      "\n",
      "    # This is where the layer's logic lives.\n",
      "    def call(self, x, **kwargs):\n",
      "        self.result = K.exp(-K.sum(K.abs(x[0] - x[1]), axis=1, keepdims=True))\n",
      "        return self.result\n",
      "\n",
      "    # return output shape\n",
      "    def compute_output_shape(self, input_shape):\n",
      "        return K.int_shape(self.result)\n",
      "\n",
      "\n",
      "class EmptyWord2Vec:\n",
      "    \"\"\"\n",
      "    Just for test use.\n",
      "    \"\"\"\n",
      "    vocab = {}\n",
      "    word_vec = {}\n"
     ]
    }
   ],
   "source": [
    "#importing util file as module\n",
    "!cat '/content/drive/My Drive/Application Tracking System - Neural Networks/util.py'"
   ]
  },
  {
   "cell_type": "code",
   "execution_count": null,
   "metadata": {
    "colab": {
     "base_uri": "https://localhost:8080/",
     "height": 119
    },
    "colab_type": "code",
    "id": "Oz9iaFgN0DaK",
    "outputId": "bc86c4ef-c74a-4ec7-a089-a38d243dbd37"
   },
   "outputs": [
    {
     "name": "stdout",
     "output_type": "stream",
     "text": [
      " data\t\t    MLSTM_test2.xlsx   test_myLSTM.ipynb   train_new.csv\n",
      " MALSTM_V1-1.xlsx   MLSTM_test.xlsx    train10.csv\t   util.py\n",
      " MALSTM_V2-1.xlsx   predict.py\t      'train_1 (1).csv'    word2vec.py\n",
      " MALSTM_V3-1.xlsx   __pycache__        train_1.csv\n",
      " Malstm-v4-1.xlsx   test-20.csv        train1.txt\n",
      " MLSTM_test1.xlsx   test2.txt\t       train_2.csv\n"
     ]
    }
   ],
   "source": [
    "!ls"
   ]
  },
  {
   "cell_type": "code",
   "execution_count": null,
   "metadata": {
    "colab": {},
    "colab_type": "code",
    "id": "wZXO7dJom1A3"
   },
   "outputs": [],
   "source": [
    "#loading all the libraries\n",
    "from time import time\n",
    "import pandas as pd\n",
    "\n",
    "import matplotlib\n",
    "\n",
    "matplotlib.use('Agg')\n",
    "import matplotlib.pyplot as plt\n",
    "\n",
    "from sklearn.model_selection import train_test_split\n",
    "\n",
    "import tensorflow as tf\n",
    "\n",
    "\n",
    "from tensorflow.python.keras.models import Model, Sequential\n",
    "from keras.preprocessing.text import Tokenizer\n",
    "from tensorflow.python.keras.layers import Input, Embedding, LSTM, GRU, Conv1D, Conv2D, GlobalMaxPool1D, Dense, Dropout,SpatialDropout1D\n",
    "from keras.utils.np_utils import to_categorical\n",
    "from keras.callbacks import EarlyStopping\n",
    "from util import make_w2v_embeddings\n",
    "from keras.utils import to_categorical\n",
    "from util import split_and_zero_padding\n",
    "from util import ManDist\n",
    "from util import text_to_word_list\n",
    "from keras.optimizers import SGD\n",
    "from sklearn.preprocessing import OneHotEncoder\n",
    "import numpy as np\n"
   ]
  },
  {
   "cell_type": "code",
   "execution_count": null,
   "metadata": {
    "colab": {},
    "colab_type": "code",
    "id": "kuiTyVEIoR50"
   },
   "outputs": [],
   "source": [
    "TRAIN_EXCEL = '/content/drive/My Drive/Application Tracking System - Neural Networks/MALSTM_V3-1.xlsx'"
   ]
  },
  {
   "cell_type": "code",
   "execution_count": null,
   "metadata": {
    "colab": {},
    "colab_type": "code",
    "id": "fcZGwWn2yhDj"
   },
   "outputs": [],
   "source": [
    "train_df = pd.read_excel(TRAIN_EXCEL)\n",
    "for q in ['Resume', 'JD','Score']:\n",
    "    train_df[q + '_n'] = train_df[q]"
   ]
  },
  {
   "cell_type": "code",
   "execution_count": null,
   "metadata": {
    "colab": {
     "base_uri": "https://localhost:8080/",
     "height": 759
    },
    "colab_type": "code",
    "id": "c5Y7_tAlSi6C",
    "outputId": "0394594f-831e-4e77-f426-1fe2ed1384db"
   },
   "outputs": [
    {
     "data": {
      "text/html": [
       "<div>\n",
       "<style scoped>\n",
       "    .dataframe tbody tr th:only-of-type {\n",
       "        vertical-align: middle;\n",
       "    }\n",
       "\n",
       "    .dataframe tbody tr th {\n",
       "        vertical-align: top;\n",
       "    }\n",
       "\n",
       "    .dataframe thead th {\n",
       "        text-align: right;\n",
       "    }\n",
       "</style>\n",
       "<table border=\"1\" class=\"dataframe\">\n",
       "  <thead>\n",
       "    <tr style=\"text-align: right;\">\n",
       "      <th></th>\n",
       "      <th>Resume</th>\n",
       "      <th>JD</th>\n",
       "      <th>Score</th>\n",
       "      <th>Score_name</th>\n",
       "      <th>Resume_n</th>\n",
       "      <th>JD_n</th>\n",
       "      <th>Score_n</th>\n",
       "    </tr>\n",
       "  </thead>\n",
       "  <tbody>\n",
       "    <tr>\n",
       "      <th>0</th>\n",
       "      <td>12 years in Java/Web development</td>\n",
       "      <td>10+ years of overall software development expe...</td>\n",
       "      <td>5</td>\n",
       "      <td>Five</td>\n",
       "      <td>12 years in Java/Web development</td>\n",
       "      <td>10+ years of overall software development expe...</td>\n",
       "      <td>5</td>\n",
       "    </tr>\n",
       "    <tr>\n",
       "      <th>1</th>\n",
       "      <td>Students’ evaluations of my performance noted ...</td>\n",
       "      <td>Strong analytical skills, excellent communicat...</td>\n",
       "      <td>5</td>\n",
       "      <td>Five</td>\n",
       "      <td>Students’ evaluations of my performance noted ...</td>\n",
       "      <td>Strong analytical skills, excellent communicat...</td>\n",
       "      <td>5</td>\n",
       "    </tr>\n",
       "    <tr>\n",
       "      <th>2</th>\n",
       "      <td>Helped migrate Wercker’s job scheduler from ru...</td>\n",
       "      <td>Familiarity with containerization services i.e...</td>\n",
       "      <td>5</td>\n",
       "      <td>Five</td>\n",
       "      <td>Helped migrate Wercker’s job scheduler from ru...</td>\n",
       "      <td>Familiarity with containerization services i.e...</td>\n",
       "      <td>5</td>\n",
       "    </tr>\n",
       "    <tr>\n",
       "      <th>3</th>\n",
       "      <td>M.S., Computer Science, M.I.T., Cambridge, MA.</td>\n",
       "      <td>B.S. in Computer Science or equivalent industr...</td>\n",
       "      <td>5</td>\n",
       "      <td>Five</td>\n",
       "      <td>M.S., Computer Science, M.I.T., Cambridge, MA.</td>\n",
       "      <td>B.S. in Computer Science or equivalent industr...</td>\n",
       "      <td>5</td>\n",
       "    </tr>\n",
       "    <tr>\n",
       "      <th>4</th>\n",
       "      <td>software engineer in developing innovative sol...</td>\n",
       "      <td>The platform team is looking for an energetic ...</td>\n",
       "      <td>5</td>\n",
       "      <td>Five</td>\n",
       "      <td>software engineer in developing innovative sol...</td>\n",
       "      <td>The platform team is looking for an energetic ...</td>\n",
       "      <td>5</td>\n",
       "    </tr>\n",
       "    <tr>\n",
       "      <th>...</th>\n",
       "      <td>...</td>\n",
       "      <td>...</td>\n",
       "      <td>...</td>\n",
       "      <td>...</td>\n",
       "      <td>...</td>\n",
       "      <td>...</td>\n",
       "      <td>...</td>\n",
       "    </tr>\n",
       "    <tr>\n",
       "      <th>1137</th>\n",
       "      <td>Designed/developed tables, views, various SQL ...</td>\n",
       "      <td>Deep knowledge and experience in designing and...</td>\n",
       "      <td>1</td>\n",
       "      <td>One</td>\n",
       "      <td>Designed/developed tables, views, various SQL ...</td>\n",
       "      <td>Deep knowledge and experience in designing and...</td>\n",
       "      <td>1</td>\n",
       "    </tr>\n",
       "    <tr>\n",
       "      <th>1138</th>\n",
       "      <td>I specialize in strategic design of web applic...</td>\n",
       "      <td>You recognize and utilize user interface desig...</td>\n",
       "      <td>1</td>\n",
       "      <td>One</td>\n",
       "      <td>I specialize in strategic design of web applic...</td>\n",
       "      <td>You recognize and utilize user interface desig...</td>\n",
       "      <td>1</td>\n",
       "    </tr>\n",
       "    <tr>\n",
       "      <th>1139</th>\n",
       "      <td>Expertise on C++ programming using different a...</td>\n",
       "      <td>Design, develop and support multi-player game ...</td>\n",
       "      <td>1</td>\n",
       "      <td>One</td>\n",
       "      <td>Expertise on C++ programming using different a...</td>\n",
       "      <td>Design, develop and support multi-player game ...</td>\n",
       "      <td>1</td>\n",
       "    </tr>\n",
       "    <tr>\n",
       "      <th>1140</th>\n",
       "      <td>Worked as a quality assurance engineer for 5+ ...</td>\n",
       "      <td>Quality and the customer experience are what d...</td>\n",
       "      <td>1</td>\n",
       "      <td>One</td>\n",
       "      <td>Worked as a quality assurance engineer for 5+ ...</td>\n",
       "      <td>Quality and the customer experience are what d...</td>\n",
       "      <td>1</td>\n",
       "    </tr>\n",
       "    <tr>\n",
       "      <th>1141</th>\n",
       "      <td>1+ years of experience in different architectures</td>\n",
       "      <td>1+ years of experience contributing to the arc...</td>\n",
       "      <td>1</td>\n",
       "      <td>One</td>\n",
       "      <td>1+ years of experience in different architectures</td>\n",
       "      <td>1+ years of experience contributing to the arc...</td>\n",
       "      <td>1</td>\n",
       "    </tr>\n",
       "  </tbody>\n",
       "</table>\n",
       "<p>1142 rows × 7 columns</p>\n",
       "</div>"
      ],
      "text/plain": [
       "                                                 Resume  ... Score_n\n",
       "0                      12 years in Java/Web development  ...       5\n",
       "1     Students’ evaluations of my performance noted ...  ...       5\n",
       "2     Helped migrate Wercker’s job scheduler from ru...  ...       5\n",
       "3        M.S., Computer Science, M.I.T., Cambridge, MA.  ...       5\n",
       "4     software engineer in developing innovative sol...  ...       5\n",
       "...                                                 ...  ...     ...\n",
       "1137  Designed/developed tables, views, various SQL ...  ...       1\n",
       "1138  I specialize in strategic design of web applic...  ...       1\n",
       "1139  Expertise on C++ programming using different a...  ...       1\n",
       "1140  Worked as a quality assurance engineer for 5+ ...  ...       1\n",
       "1141  1+ years of experience in different architectures  ...       1\n",
       "\n",
       "[1142 rows x 7 columns]"
      ]
     },
     "execution_count": 16,
     "metadata": {
      "tags": []
     },
     "output_type": "execute_result"
    }
   ],
   "source": [
    "#dataframe comprising of resume,JD,score\n",
    "train_df"
   ]
  },
  {
   "cell_type": "code",
   "execution_count": null,
   "metadata": {
    "colab": {
     "base_uri": "https://localhost:8080/",
     "height": 119
    },
    "colab_type": "code",
    "id": "gwfQIRWHfwI3",
    "outputId": "fe847518-f62b-46af-dd4c-eed5072cbadd"
   },
   "outputs": [
    {
     "data": {
      "text/plain": [
       "5    364\n",
       "3    279\n",
       "4    211\n",
       "2    168\n",
       "1    120\n",
       "Name: Score_n, dtype: int64"
      ]
     },
     "execution_count": 17,
     "metadata": {
      "tags": []
     },
     "output_type": "execute_result"
    }
   ],
   "source": [
    "train_df['Score_n'].value_counts()"
   ]
  },
  {
   "cell_type": "code",
   "execution_count": null,
   "metadata": {
    "colab": {},
    "colab_type": "code",
    "id": "HnpIH0izzfZ-"
   },
   "outputs": [],
   "source": [
    "embedding_dim = 300\n",
    "max_seq_length = 70\n",
    "use_w2v = True"
   ]
  },
  {
   "cell_type": "code",
   "execution_count": null,
   "metadata": {
    "colab": {
     "base_uri": "https://localhost:8080/",
     "height": 68
    },
    "colab_type": "code",
    "id": "u9xR8Wqi2CbG",
    "outputId": "d599c34f-77c4-4a88-d672-2decffc66c02"
   },
   "outputs": [
    {
     "name": "stdout",
     "output_type": "stream",
     "text": [
      "[nltk_data] Downloading package stopwords to /root/nltk_data...\n",
      "[nltk_data]   Unzipping corpora/stopwords.zip.\n"
     ]
    },
    {
     "data": {
      "text/plain": [
       "True"
      ]
     },
     "execution_count": 19,
     "metadata": {
      "tags": []
     },
     "output_type": "execute_result"
    }
   ],
   "source": [
    "import nltk\n",
    "nltk.download('stopwords')"
   ]
  },
  {
   "cell_type": "code",
   "execution_count": null,
   "metadata": {
    "colab": {
     "base_uri": "https://localhost:8080/",
     "height": 119
    },
    "colab_type": "code",
    "id": "5GMwzxOm-74Y",
    "outputId": "fa443c61-81ea-4dc3-d356-1ee9342f087b"
   },
   "outputs": [
    {
     "name": "stdout",
     "output_type": "stream",
     "text": [
      " data\t\t    MLSTM_test2.xlsx   test_myLSTM.ipynb   train_new.csv\n",
      " MALSTM_V1-1.xlsx   MLSTM_test.xlsx    train10.csv\t   util.py\n",
      " MALSTM_V2-1.xlsx   predict.py\t      'train_1 (1).csv'    word2vec.py\n",
      " MALSTM_V3-1.xlsx   __pycache__        train_1.csv\n",
      " Malstm-v4-1.xlsx   test-20.csv        train1.txt\n",
      " MLSTM_test1.xlsx   test2.txt\t       train_2.csv\n"
     ]
    }
   ],
   "source": [
    "!ls"
   ]
  },
  {
   "cell_type": "code",
   "execution_count": null,
   "metadata": {
    "colab": {
     "base_uri": "https://localhost:8080/",
     "height": 51
    },
    "colab_type": "code",
    "id": "NvV35xNY2Mfs",
    "outputId": "6a9ae44e-d246-462a-9f71-41638167944b"
   },
   "outputs": [
    {
     "name": "stdout",
     "output_type": "stream",
     "text": [
      "Loading word2vec model(it may takes 2-3 mins) ...\n",
      "1,000 sentences embedded.\n"
     ]
    }
   ],
   "source": [
    "#create word2vec embeddings\n",
    "train_df, embeddings = make_w2v_embeddings(train_df, embedding_dim=embedding_dim, empty_w2v=use_w2v)"
   ]
  },
  {
   "cell_type": "code",
   "execution_count": null,
   "metadata": {
    "colab": {
     "base_uri": "https://localhost:8080/",
     "height": 442
    },
    "colab_type": "code",
    "id": "T_kzRAViytTx",
    "outputId": "d4b06ab5-6810-47d7-cad1-a5695dc88238"
   },
   "outputs": [
    {
     "data": {
      "text/plain": [
       "(0       5\n",
       " 1       5\n",
       " 2       5\n",
       " 3       5\n",
       " 4       5\n",
       "        ..\n",
       " 1137    1\n",
       " 1138    1\n",
       " 1139    1\n",
       " 1140    1\n",
       " 1141    1\n",
       " Name: Score_n, Length: 1142, dtype: int64,\n",
       " array([[ 0.        ,  0.        ,  0.        , ...,  0.        ,\n",
       "          0.        ,  0.        ],\n",
       "        [-0.83504133, -0.05250624,  1.3624178 , ..., -0.3044667 ,\n",
       "          1.23290439,  1.45146273],\n",
       "        [-0.76976624,  0.41155703,  2.17227248, ..., -0.7216212 ,\n",
       "         -0.74395877, -0.33287244],\n",
       "        ...,\n",
       "        [ 0.6361212 ,  0.32325134, -1.58987171, ...,  0.6664713 ,\n",
       "          1.94126091,  0.22396211],\n",
       "        [-1.2065908 , -0.72441932,  1.09015009, ..., -0.42606363,\n",
       "         -0.11185285, -1.23602804],\n",
       "        [-0.16066237,  1.77715904, -2.85889441, ..., -1.29762072,\n",
       "         -1.57530578,  0.63594643]]))"
      ]
     },
     "execution_count": 22,
     "metadata": {
      "tags": []
     },
     "output_type": "execute_result"
    }
   ],
   "source": [
    "train_df['Score_n'],embeddings"
   ]
  },
  {
   "cell_type": "code",
   "execution_count": null,
   "metadata": {
    "colab": {
     "base_uri": "https://localhost:8080/",
     "height": 51
    },
    "colab_type": "code",
    "id": "6UMZBjNV7AJA",
    "outputId": "73e64e0e-17b1-488a-f71a-b8b521b8cbb9"
   },
   "outputs": [
    {
     "name": "stdout",
     "output_type": "stream",
     "text": [
      "342\n",
      "800\n"
     ]
    }
   ],
   "source": [
    "validation_size = int(len(train_df) * 0.3)\n",
    "print(validation_size)\n",
    "training_size = len(train_df) - validation_size\n",
    "print(training_size)"
   ]
  },
  {
   "cell_type": "code",
   "execution_count": null,
   "metadata": {
    "colab": {
     "base_uri": "https://localhost:8080/",
     "height": 419
    },
    "colab_type": "code",
    "id": "F85HWvaE_9yX",
    "outputId": "4fa32860-3eb9-4247-d2b7-029a9dfb8410"
   },
   "outputs": [
    {
     "data": {
      "text/html": [
       "<div>\n",
       "<style scoped>\n",
       "    .dataframe tbody tr th:only-of-type {\n",
       "        vertical-align: middle;\n",
       "    }\n",
       "\n",
       "    .dataframe tbody tr th {\n",
       "        vertical-align: top;\n",
       "    }\n",
       "\n",
       "    .dataframe thead th {\n",
       "        text-align: right;\n",
       "    }\n",
       "</style>\n",
       "<table border=\"1\" class=\"dataframe\">\n",
       "  <thead>\n",
       "    <tr style=\"text-align: right;\">\n",
       "      <th></th>\n",
       "      <th>Resume_n</th>\n",
       "      <th>JD_n</th>\n",
       "    </tr>\n",
       "  </thead>\n",
       "  <tbody>\n",
       "    <tr>\n",
       "      <th>0</th>\n",
       "      <td>[1, 2, 3, 4, 5]</td>\n",
       "      <td>[6, 7, 2, 8, 9, 5, 10, 11, 7, 2, 3]</td>\n",
       "    </tr>\n",
       "    <tr>\n",
       "      <th>1</th>\n",
       "      <td>[12, 13, 14, 15, 16, 17, 18]</td>\n",
       "      <td>[19, 20, 21, 22, 18, 23, 21]</td>\n",
       "    </tr>\n",
       "    <tr>\n",
       "      <th>2</th>\n",
       "      <td>[24, 25, 26, 27, 28, 29, 30, 31, 32]</td>\n",
       "      <td>[33, 34, 35, 36, 32]</td>\n",
       "    </tr>\n",
       "    <tr>\n",
       "      <th>3</th>\n",
       "      <td>[37, 38, 39]</td>\n",
       "      <td>[40, 37, 38, 41, 42, 10, 43, 44, 45, 46]</td>\n",
       "    </tr>\n",
       "    <tr>\n",
       "      <th>4</th>\n",
       "      <td>[9, 47, 48, 49, 50, 51, 52, 53, 54, 5, 55, 56,...</td>\n",
       "      <td>[65, 59, 66, 67, 68, 69, 70, 71, 52, 72, 73, 7...</td>\n",
       "    </tr>\n",
       "    <tr>\n",
       "      <th>...</th>\n",
       "      <td>...</td>\n",
       "      <td>...</td>\n",
       "    </tr>\n",
       "    <tr>\n",
       "      <th>1137</th>\n",
       "      <td>[154, 394, 1836, 2459, 189, 217, 1713, 2238, 1...</td>\n",
       "      <td>[573, 309, 10, 105, 580, 213, 206, 385, 219, 2...</td>\n",
       "    </tr>\n",
       "    <tr>\n",
       "      <th>1138</th>\n",
       "      <td>[3220, 2250, 98, 4, 185, 1122, 141, 10, 1387]</td>\n",
       "      <td>[2630, 2299, 1122, 724, 98, 952, 51, 83, 74, 7...</td>\n",
       "    </tr>\n",
       "    <tr>\n",
       "      <th>1139</th>\n",
       "      <td>[574, 350, 7, 7, 393, 349, 1137, 3221, 246]</td>\n",
       "      <td>[98, 373, 58, 828, 141, 335, 3029, 9, 349, 508...</td>\n",
       "    </tr>\n",
       "    <tr>\n",
       "      <th>1140</th>\n",
       "      <td>[543, 198, 1256, 47, 11, 7, 2, 170, 389, 10]</td>\n",
       "      <td>[198, 389, 10, 2717, 1404, 344, 35, 58, 3223, ...</td>\n",
       "    </tr>\n",
       "    <tr>\n",
       "      <th>1141</th>\n",
       "      <td>[1045, 7, 2, 10, 1137, 902]</td>\n",
       "      <td>[1045, 7, 2, 10, 1619, 319, 98, 319, 98, 952, ...</td>\n",
       "    </tr>\n",
       "  </tbody>\n",
       "</table>\n",
       "<p>1142 rows × 2 columns</p>\n",
       "</div>"
      ],
      "text/plain": [
       "                                               Resume_n                                               JD_n\n",
       "0                                       [1, 2, 3, 4, 5]                [6, 7, 2, 8, 9, 5, 10, 11, 7, 2, 3]\n",
       "1                          [12, 13, 14, 15, 16, 17, 18]                       [19, 20, 21, 22, 18, 23, 21]\n",
       "2                  [24, 25, 26, 27, 28, 29, 30, 31, 32]                               [33, 34, 35, 36, 32]\n",
       "3                                          [37, 38, 39]           [40, 37, 38, 41, 42, 10, 43, 44, 45, 46]\n",
       "4     [9, 47, 48, 49, 50, 51, 52, 53, 54, 5, 55, 56,...  [65, 59, 66, 67, 68, 69, 70, 71, 52, 72, 73, 7...\n",
       "...                                                 ...                                                ...\n",
       "1137  [154, 394, 1836, 2459, 189, 217, 1713, 2238, 1...  [573, 309, 10, 105, 580, 213, 206, 385, 219, 2...\n",
       "1138      [3220, 2250, 98, 4, 185, 1122, 141, 10, 1387]  [2630, 2299, 1122, 724, 98, 952, 51, 83, 74, 7...\n",
       "1139        [574, 350, 7, 7, 393, 349, 1137, 3221, 246]  [98, 373, 58, 828, 141, 335, 3029, 9, 349, 508...\n",
       "1140       [543, 198, 1256, 47, 11, 7, 2, 170, 389, 10]  [198, 389, 10, 2717, 1404, 344, 35, 58, 3223, ...\n",
       "1141                        [1045, 7, 2, 10, 1137, 902]  [1045, 7, 2, 10, 1619, 319, 98, 319, 98, 952, ...\n",
       "\n",
       "[1142 rows x 2 columns]"
      ]
     },
     "execution_count": 24,
     "metadata": {
      "tags": []
     },
     "output_type": "execute_result"
    }
   ],
   "source": [
    "X = train_df[['Resume_n', 'JD_n']]\n",
    "X"
   ]
  },
  {
   "cell_type": "code",
   "execution_count": null,
   "metadata": {
    "colab": {
     "base_uri": "https://localhost:8080/",
     "height": 725
    },
    "colab_type": "code",
    "id": "h3DT_W2_zLnY",
    "outputId": "79f5a8f1-4f93-41ef-db76-72b26ceea6a5"
   },
   "outputs": [
    {
     "data": {
      "text/html": [
       "<div>\n",
       "<style scoped>\n",
       "    .dataframe tbody tr th:only-of-type {\n",
       "        vertical-align: middle;\n",
       "    }\n",
       "\n",
       "    .dataframe tbody tr th {\n",
       "        vertical-align: top;\n",
       "    }\n",
       "\n",
       "    .dataframe thead th {\n",
       "        text-align: right;\n",
       "    }\n",
       "</style>\n",
       "<table border=\"1\" class=\"dataframe\">\n",
       "  <thead>\n",
       "    <tr style=\"text-align: right;\">\n",
       "      <th></th>\n",
       "      <th>Resume</th>\n",
       "      <th>JD</th>\n",
       "      <th>Score</th>\n",
       "      <th>Score_name</th>\n",
       "      <th>Resume_n</th>\n",
       "      <th>JD_n</th>\n",
       "      <th>Score_n</th>\n",
       "      <th>LABEL</th>\n",
       "    </tr>\n",
       "  </thead>\n",
       "  <tbody>\n",
       "    <tr>\n",
       "      <th>0</th>\n",
       "      <td>12 years in Java/Web development</td>\n",
       "      <td>10+ years of overall software development expe...</td>\n",
       "      <td>5</td>\n",
       "      <td>Five</td>\n",
       "      <td>[1, 2, 3, 4, 5]</td>\n",
       "      <td>[6, 7, 2, 8, 9, 5, 10, 11, 7, 2, 3]</td>\n",
       "      <td>5</td>\n",
       "      <td>4.0</td>\n",
       "    </tr>\n",
       "    <tr>\n",
       "      <th>1</th>\n",
       "      <td>Students’ evaluations of my performance noted ...</td>\n",
       "      <td>Strong analytical skills, excellent communicat...</td>\n",
       "      <td>5</td>\n",
       "      <td>Five</td>\n",
       "      <td>[12, 13, 14, 15, 16, 17, 18]</td>\n",
       "      <td>[19, 20, 21, 22, 18, 23, 21]</td>\n",
       "      <td>5</td>\n",
       "      <td>4.0</td>\n",
       "    </tr>\n",
       "    <tr>\n",
       "      <th>2</th>\n",
       "      <td>Helped migrate Wercker’s job scheduler from ru...</td>\n",
       "      <td>Familiarity with containerization services i.e...</td>\n",
       "      <td>5</td>\n",
       "      <td>Five</td>\n",
       "      <td>[24, 25, 26, 27, 28, 29, 30, 31, 32]</td>\n",
       "      <td>[33, 34, 35, 36, 32]</td>\n",
       "      <td>5</td>\n",
       "      <td>4.0</td>\n",
       "    </tr>\n",
       "    <tr>\n",
       "      <th>3</th>\n",
       "      <td>M.S., Computer Science, M.I.T., Cambridge, MA.</td>\n",
       "      <td>B.S. in Computer Science or equivalent industr...</td>\n",
       "      <td>5</td>\n",
       "      <td>Five</td>\n",
       "      <td>[37, 38, 39]</td>\n",
       "      <td>[40, 37, 38, 41, 42, 10, 43, 44, 45, 46]</td>\n",
       "      <td>5</td>\n",
       "      <td>4.0</td>\n",
       "    </tr>\n",
       "    <tr>\n",
       "      <th>4</th>\n",
       "      <td>software engineer in developing innovative sol...</td>\n",
       "      <td>The platform team is looking for an energetic ...</td>\n",
       "      <td>5</td>\n",
       "      <td>Five</td>\n",
       "      <td>[9, 47, 48, 49, 50, 51, 52, 53, 54, 5, 55, 56,...</td>\n",
       "      <td>[65, 59, 66, 67, 68, 69, 70, 71, 52, 72, 73, 7...</td>\n",
       "      <td>5</td>\n",
       "      <td>4.0</td>\n",
       "    </tr>\n",
       "    <tr>\n",
       "      <th>...</th>\n",
       "      <td>...</td>\n",
       "      <td>...</td>\n",
       "      <td>...</td>\n",
       "      <td>...</td>\n",
       "      <td>...</td>\n",
       "      <td>...</td>\n",
       "      <td>...</td>\n",
       "      <td>...</td>\n",
       "    </tr>\n",
       "    <tr>\n",
       "      <th>1137</th>\n",
       "      <td>Designed/developed tables, views, various SQL ...</td>\n",
       "      <td>Deep knowledge and experience in designing and...</td>\n",
       "      <td>1</td>\n",
       "      <td>One</td>\n",
       "      <td>[154, 394, 1836, 2459, 189, 217, 1713, 2238, 1...</td>\n",
       "      <td>[573, 309, 10, 105, 580, 213, 206, 385, 219, 2...</td>\n",
       "      <td>1</td>\n",
       "      <td>0.0</td>\n",
       "    </tr>\n",
       "    <tr>\n",
       "      <th>1138</th>\n",
       "      <td>I specialize in strategic design of web applic...</td>\n",
       "      <td>You recognize and utilize user interface desig...</td>\n",
       "      <td>1</td>\n",
       "      <td>One</td>\n",
       "      <td>[3220, 2250, 98, 4, 185, 1122, 141, 10, 1387]</td>\n",
       "      <td>[2630, 2299, 1122, 724, 98, 952, 51, 83, 74, 7...</td>\n",
       "      <td>1</td>\n",
       "      <td>0.0</td>\n",
       "    </tr>\n",
       "    <tr>\n",
       "      <th>1139</th>\n",
       "      <td>Expertise on C++ programming using different a...</td>\n",
       "      <td>Design, develop and support multi-player game ...</td>\n",
       "      <td>1</td>\n",
       "      <td>One</td>\n",
       "      <td>[574, 350, 7, 7, 393, 349, 1137, 3221, 246]</td>\n",
       "      <td>[98, 373, 58, 828, 141, 335, 3029, 9, 349, 508...</td>\n",
       "      <td>1</td>\n",
       "      <td>0.0</td>\n",
       "    </tr>\n",
       "    <tr>\n",
       "      <th>1140</th>\n",
       "      <td>Worked as a quality assurance engineer for 5+ ...</td>\n",
       "      <td>Quality and the customer experience are what d...</td>\n",
       "      <td>1</td>\n",
       "      <td>One</td>\n",
       "      <td>[543, 198, 1256, 47, 11, 7, 2, 170, 389, 10]</td>\n",
       "      <td>[198, 389, 10, 2717, 1404, 344, 35, 58, 3223, ...</td>\n",
       "      <td>1</td>\n",
       "      <td>0.0</td>\n",
       "    </tr>\n",
       "    <tr>\n",
       "      <th>1141</th>\n",
       "      <td>1+ years of experience in different architectures</td>\n",
       "      <td>1+ years of experience contributing to the arc...</td>\n",
       "      <td>1</td>\n",
       "      <td>One</td>\n",
       "      <td>[1045, 7, 2, 10, 1137, 902]</td>\n",
       "      <td>[1045, 7, 2, 10, 1619, 319, 98, 319, 98, 952, ...</td>\n",
       "      <td>1</td>\n",
       "      <td>0.0</td>\n",
       "    </tr>\n",
       "  </tbody>\n",
       "</table>\n",
       "<p>1142 rows × 8 columns</p>\n",
       "</div>"
      ],
      "text/plain": [
       "                                                 Resume  ... LABEL\n",
       "0                      12 years in Java/Web development  ...   4.0\n",
       "1     Students’ evaluations of my performance noted ...  ...   4.0\n",
       "2     Helped migrate Wercker’s job scheduler from ru...  ...   4.0\n",
       "3        M.S., Computer Science, M.I.T., Cambridge, MA.  ...   4.0\n",
       "4     software engineer in developing innovative sol...  ...   4.0\n",
       "...                                                 ...  ...   ...\n",
       "1137  Designed/developed tables, views, various SQL ...  ...   0.0\n",
       "1138  I specialize in strategic design of web applic...  ...   0.0\n",
       "1139  Expertise on C++ programming using different a...  ...   0.0\n",
       "1140  Worked as a quality assurance engineer for 5+ ...  ...   0.0\n",
       "1141  1+ years of experience in different architectures  ...   0.0\n",
       "\n",
       "[1142 rows x 8 columns]"
      ]
     },
     "execution_count": 25,
     "metadata": {
      "tags": []
     },
     "output_type": "execute_result"
    }
   ],
   "source": [
    "train_df.loc[train_df['Score'] == 5, 'LABEL'] = 4\n",
    "train_df.loc[train_df['Score'] == 4, 'LABEL'] = 3\n",
    "train_df.loc[train_df['Score'] == 3, 'LABEL'] = 2\n",
    "train_df.loc[train_df['Score'] == 2, 'LABEL'] = 1\n",
    "train_df.loc[train_df['Score'] == 1, 'LABEL'] = 0\n",
    "train_df\n"
   ]
  },
  {
   "cell_type": "code",
   "execution_count": null,
   "metadata": {
    "colab": {
     "base_uri": "https://localhost:8080/",
     "height": 136
    },
    "colab_type": "code",
    "id": "1q7l51fwACEd",
    "outputId": "363efb70-efbb-4075-beee-dc91aaa82858"
   },
   "outputs": [
    {
     "data": {
      "text/plain": [
       "array([[0., 0., 0., 0., 0., 1.],\n",
       "       [0., 0., 0., 0., 0., 1.],\n",
       "       [0., 0., 0., 0., 0., 1.],\n",
       "       ...,\n",
       "       [0., 1., 0., 0., 0., 0.],\n",
       "       [0., 1., 0., 0., 0., 0.],\n",
       "       [0., 1., 0., 0., 0., 0.]], dtype=float32)"
      ]
     },
     "execution_count": 26,
     "metadata": {
      "tags": []
     },
     "output_type": "execute_result"
    }
   ],
   "source": [
    "# min_score = 1\n",
    "# max_score = 5\n",
    "# Y = (train_df['Score_n'] - min_score) / (max_score - min_score)\n",
    "Y = to_categorical(train_df['Score'])\n",
    "Y\n",
    "# Y = (np.reshape(Y,6852,order='F') / 6)\n",
    "# Y.shape\n",
    "# Y = train_df['LABEL']\n",
    "# Y.shape"
   ]
  },
  {
   "cell_type": "code",
   "execution_count": null,
   "metadata": {
    "colab": {},
    "colab_type": "code",
    "id": "yjVC0X_jAHf8"
   },
   "outputs": [],
   "source": [
    "X_train, X_validation, Y_train, Y_validation = train_test_split(X, Y, test_size=validation_size)"
   ]
  },
  {
   "cell_type": "code",
   "execution_count": null,
   "metadata": {
    "colab": {
     "base_uri": "https://localhost:8080/",
     "height": 51
    },
    "colab_type": "code",
    "id": "znkzOdJCFUZ9",
    "outputId": "73c226c3-cff8-4f3f-ad48-a7cafaba069f"
   },
   "outputs": [
    {
     "name": "stdout",
     "output_type": "stream",
     "text": [
      "(800, 2) (800, 6)\n",
      "(342, 2) (342, 6)\n"
     ]
    }
   ],
   "source": [
    "print(X_train.shape,Y_train.shape)\n",
    "print(X_validation.shape,Y_validation.shape)"
   ]
  },
  {
   "cell_type": "code",
   "execution_count": null,
   "metadata": {
    "colab": {
     "base_uri": "https://localhost:8080/",
     "height": 479
    },
    "colab_type": "code",
    "id": "PMtit-gQAUs0",
    "outputId": "a9db7d1b-f060-4f7b-a53d-c090891c5a3b"
   },
   "outputs": [
    {
     "name": "stdout",
     "output_type": "stream",
     "text": [
      "{'left': array([[   0,    0,    0, ...,  124,  570,    3],\n",
      "       [   0,    0,    0, ..., 2959, 2960, 2961],\n",
      "       [   0,    0,    0, ...,   11, 1049, 1178],\n",
      "       ...,\n",
      "       [   0,    0,    0, ..., 2187,  771,  561],\n",
      "       [   0,    0,    0, ...,  610,  571,  570],\n",
      "       [   0,    0,    0, ...,  521,  517,  854]], dtype=int32), 'right': array([[   0,    0,    0, ...,  350,    7,    7],\n",
      "       [   0,    0,    0, ...,  597,    5,  354],\n",
      "       [   0,    0,    0, ...,    0, 1051, 1048],\n",
      "       ...,\n",
      "       [   0,    0,    0, ...,  664,  570,    3],\n",
      "       [   0,    0,    0, ...,  570,  770,  571],\n",
      "       [   0,    0,    0, ...,  521,  517,  854]], dtype=int32)}\n",
      "{'left': array([[  0,   0,   0, ..., 375,  59,  60],\n",
      "       [  0,   0,   0, ..., 367, 573, 268],\n",
      "       [  0,   0,   0, ...,  10, 258, 682],\n",
      "       ...,\n",
      "       [  0,   0,   0, ...,   4, 177, 185],\n",
      "       [  0,   0,   0, ..., 172, 322, 172],\n",
      "       [  0,   0,   0, ..., 788, 712, 746]], dtype=int32), 'right': array([[   0,    0,    0, ...,  374,   59,   60],\n",
      "       [   0,    0,    0, ...,  286,  910,  297],\n",
      "       [   0,    0,    0, ...,  676,  678,  680],\n",
      "       ...,\n",
      "       [   0,    0,    0, ...,  264,  763, 1212],\n",
      "       [   0,    0,    0, ...,  141,  334,  447],\n",
      "       [   0,    0,    0, ...,  790,  788,  712]], dtype=int32)}\n"
     ]
    }
   ],
   "source": [
    "#add zero padding for the inputs\n",
    "X_train = split_and_zero_padding(X_train, max_seq_length)\n",
    "X_validation = split_and_zero_padding(X_validation, max_seq_length)\n",
    "print(X_train)\n",
    "print(X_validation)"
   ]
  },
  {
   "cell_type": "code",
   "execution_count": null,
   "metadata": {
    "colab": {
     "base_uri": "https://localhost:8080/",
     "height": 136
    },
    "colab_type": "code",
    "id": "ZqcWvcO4AXe8",
    "outputId": "8e3f42e3-c6dd-4daa-de84-3405007cc049"
   },
   "outputs": [
    {
     "data": {
      "text/plain": [
       "array([[0., 0., 0., 1., 0., 0.],\n",
       "       [0., 0., 1., 0., 0., 0.],\n",
       "       [0., 0., 0., 0., 1., 0.],\n",
       "       ...,\n",
       "       [0., 0., 0., 0., 1., 0.],\n",
       "       [0., 0., 0., 0., 1., 0.],\n",
       "       [0., 0., 0., 0., 0., 1.]], dtype=float32)"
      ]
     },
     "execution_count": 30,
     "metadata": {
      "tags": []
     },
     "output_type": "execute_result"
    }
   ],
   "source": [
    "Y_train \n",
    "Y_validation"
   ]
  },
  {
   "cell_type": "code",
   "execution_count": null,
   "metadata": {
    "colab": {},
    "colab_type": "code",
    "id": "R4iLgL2BAb4s"
   },
   "outputs": [],
   "source": [
    "assert X_train['left'].shape == X_train['right'].shape\n",
    "assert len(X_train['left']) == len(Y_train)"
   ]
  },
  {
   "cell_type": "code",
   "execution_count": null,
   "metadata": {
    "colab": {
     "base_uri": "https://localhost:8080/",
     "height": 34
    },
    "colab_type": "code",
    "id": "9ZgplClRQnG_",
    "outputId": "1fa5f07c-5807-46c7-9786-75143abb4c50"
   },
   "outputs": [
    {
     "data": {
      "text/plain": [
       "2"
      ]
     },
     "execution_count": 40,
     "metadata": {
      "tags": []
     },
     "output_type": "execute_result"
    }
   ],
   "source": [
    "X.shape[1]"
   ]
  },
  {
   "cell_type": "code",
   "execution_count": null,
   "metadata": {
    "colab": {
     "base_uri": "https://localhost:8080/",
     "height": 34
    },
    "colab_type": "code",
    "id": "f70yIl08mRey",
    "outputId": "575af4c9-8206-4dd6-fc08-c08b87e38efa"
   },
   "outputs": [
    {
     "data": {
      "text/plain": [
       "50"
      ]
     },
     "execution_count": 41,
     "metadata": {
      "tags": []
     },
     "output_type": "execute_result"
    }
   ],
   "source": [
    "batch_size = 16\n",
    "n_epoch = 50\n",
    "n_hidden = 100\n",
    "n_most_common_words = 5000\n",
    "n_epoch"
   ]
  },
  {
   "cell_type": "code",
   "execution_count": null,
   "metadata": {
    "colab": {},
    "colab_type": "code",
    "id": "hHBax3LnAi_7"
   },
   "outputs": [],
   "source": [
    "#configure model\n",
    "model = Sequential()\n",
    "model.add(Embedding(n_most_common_words, embedding_dim, input_length= max_seq_length))\n",
    "model.add(SpatialDropout1D(0.3))\n",
    "model.add(LSTM((256), dropout=0.3, recurrent_dropout=0.3))\n",
    "model.add(Dense(128, activation='relu'))\n",
    "model.add(Dense(64, activation='softmax'))\n",
    "shared_model = model\n",
    "# model = Sequential()\n",
    "# model.add(Embedding(n_most_common_words, embedding_dim, input_length= max_seq_length))\n",
    "# model.add(LSTM((64), dropout=0.3, recurrent_dropout=0.3))\n",
    "# model\n",
    "# model.add(Dense(512,input_dim=2, activation='relu'))\n",
    "# model.add(Dense(6, activation='softmax'))\n",
    "# # model.add(Dense(32, activation='softmax'))\n",
    "# # model.add(Dense(4, activation='softmax'))\n",
    "# # model.add(Dense(1, activation='softmax'))\n",
    "# # model.add(Dense(3, activation='softmax'))\n",
    "# shared_model = model"
   ]
  },
  {
   "cell_type": "code",
   "execution_count": null,
   "metadata": {
    "colab": {},
    "colab_type": "code",
    "id": "6FslHg5XxLEM"
   },
   "outputs": [],
   "source": [
    "left_input = Input(shape=(max_seq_length,), dtype='int32')\n",
    "right_input = Input(shape=(max_seq_length,), dtype='int32')"
   ]
  },
  {
   "cell_type": "code",
   "execution_count": null,
   "metadata": {
    "colab": {
     "base_uri": "https://localhost:8080/",
     "height": 34
    },
    "colab_type": "code",
    "id": "ebBKUe5vAnzT",
    "outputId": "0f7f4e04-0ec7-4644-c6c7-577085375426"
   },
   "outputs": [
    {
     "data": {
      "text/plain": [
       "<tensorflow.python.keras.engine.functional.Functional at 0x7f1f6a550160>"
      ]
     },
     "execution_count": 55,
     "metadata": {
      "tags": []
     },
     "output_type": "execute_result"
    }
   ],
   "source": [
    "malstm_distance = ManDist()([shared_model(left_input), shared_model(right_input)])\n",
    "model = Model(inputs=[left_input, right_input], outputs=[malstm_distance])\n",
    "model\n"
   ]
  },
  {
   "cell_type": "code",
   "execution_count": null,
   "metadata": {
    "colab": {
     "base_uri": "https://localhost:8080/",
     "height": 340
    },
    "colab_type": "code",
    "id": "kAHdT6b1uTIw",
    "outputId": "3ef5a34b-13fb-4efc-b448-9824e82a3586"
   },
   "outputs": [
    {
     "name": "stdout",
     "output_type": "stream",
     "text": [
      "Model: \"functional_5\"\n",
      "__________________________________________________________________________________________________\n",
      "Layer (type)                    Output Shape         Param #     Connected to                     \n",
      "==================================================================================================\n",
      "input_9 (InputLayer)            [(None, 70)]         0                                            \n",
      "__________________________________________________________________________________________________\n",
      "input_10 (InputLayer)           [(None, 70)]         0                                            \n",
      "__________________________________________________________________________________________________\n",
      "sequential_5 (Sequential)       (None, 64)           2111520     input_9[0][0]                    \n",
      "                                                                 input_10[0][0]                   \n",
      "__________________________________________________________________________________________________\n",
      "man_dist_5 (ManDist)            (None, 1)            0           sequential_5[0][0]               \n",
      "                                                                 sequential_5[1][0]               \n",
      "==================================================================================================\n",
      "Total params: 2,111,520\n",
      "Trainable params: 2,111,520\n",
      "Non-trainable params: 0\n",
      "__________________________________________________________________________________________________\n",
      "None\n"
     ]
    }
   ],
   "source": [
    "left_input = Input(shape=(max_seq_length,), dtype='int32')\n",
    "right_input = Input(shape=(max_seq_length,), dtype='int32')\n",
    "# opt = SGD(lr=0.01, momentum=0.9)\n",
    "model.compile(loss='mean_squared_error', optimizer='adam', metrics=['accuracy'])\n",
    "print(model.summary())"
   ]
  },
  {
   "cell_type": "code",
   "execution_count": null,
   "metadata": {
    "colab": {
     "base_uri": "https://localhost:8080/",
     "height": 1000
    },
    "colab_type": "code",
    "id": "JCxLSnQqAqKr",
    "outputId": "2d9d5246-156b-4fc5-d118-c1f8b86293fc"
   },
   "outputs": [
    {
     "name": "stdout",
     "output_type": "stream",
     "text": [
      "Epoch 1/50\n",
      "50/50 [==============================] - 15s 294ms/step - loss: 0.4183 - accuracy: 0.4292 - val_loss: 0.2553 - val_accuracy: 0.6306\n",
      "Epoch 2/50\n",
      "50/50 [==============================] - 14s 282ms/step - loss: 0.2186 - accuracy: 0.6833 - val_loss: 0.2198 - val_accuracy: 0.6832\n",
      "Epoch 3/50\n",
      "50/50 [==============================] - 14s 282ms/step - loss: 0.1867 - accuracy: 0.7417 - val_loss: 0.2115 - val_accuracy: 0.7066\n",
      "Epoch 4/50\n",
      "50/50 [==============================] - 14s 285ms/step - loss: 0.1870 - accuracy: 0.7517 - val_loss: 0.2157 - val_accuracy: 0.7027\n",
      "Epoch 5/50\n",
      "50/50 [==============================] - 14s 284ms/step - loss: 0.1676 - accuracy: 0.7767 - val_loss: 0.1915 - val_accuracy: 0.7300\n",
      "Epoch 6/50\n",
      "50/50 [==============================] - 14s 279ms/step - loss: 0.1506 - accuracy: 0.8117 - val_loss: 0.2002 - val_accuracy: 0.7222\n",
      "Epoch 7/50\n",
      "50/50 [==============================] - 14s 287ms/step - loss: 0.1486 - accuracy: 0.8183 - val_loss: 0.1806 - val_accuracy: 0.7671\n",
      "Epoch 8/50\n",
      "50/50 [==============================] - 14s 282ms/step - loss: 0.1525 - accuracy: 0.8117 - val_loss: 0.1758 - val_accuracy: 0.7632\n",
      "Epoch 9/50\n",
      "50/50 [==============================] - 14s 284ms/step - loss: 0.1512 - accuracy: 0.8108 - val_loss: 0.1696 - val_accuracy: 0.7729\n",
      "Epoch 10/50\n",
      "50/50 [==============================] - 14s 282ms/step - loss: 0.1471 - accuracy: 0.8158 - val_loss: 0.1735 - val_accuracy: 0.7690\n",
      "Epoch 11/50\n",
      "50/50 [==============================] - 14s 277ms/step - loss: 0.1481 - accuracy: 0.8225 - val_loss: 0.1686 - val_accuracy: 0.7846\n",
      "Epoch 12/50\n",
      "50/50 [==============================] - 14s 280ms/step - loss: 0.1442 - accuracy: 0.8258 - val_loss: 0.1656 - val_accuracy: 0.7904\n",
      "Epoch 13/50\n",
      "50/50 [==============================] - 14s 279ms/step - loss: 0.1441 - accuracy: 0.8275 - val_loss: 0.1661 - val_accuracy: 0.7865\n",
      "Epoch 14/50\n",
      "50/50 [==============================] - 14s 279ms/step - loss: 0.1451 - accuracy: 0.8250 - val_loss: 0.1651 - val_accuracy: 0.7749\n",
      "Epoch 15/50\n",
      "50/50 [==============================] - 14s 283ms/step - loss: 0.1447 - accuracy: 0.8250 - val_loss: 0.1670 - val_accuracy: 0.7885\n",
      "Epoch 16/50\n",
      "50/50 [==============================] - 14s 281ms/step - loss: 0.1444 - accuracy: 0.8250 - val_loss: 0.1690 - val_accuracy: 0.7865\n",
      "Epoch 17/50\n",
      "50/50 [==============================] - 14s 283ms/step - loss: 0.1430 - accuracy: 0.8275 - val_loss: 0.1682 - val_accuracy: 0.7768\n",
      "Epoch 18/50\n",
      "50/50 [==============================] - 14s 278ms/step - loss: 0.1422 - accuracy: 0.8283 - val_loss: 0.1670 - val_accuracy: 0.7885\n",
      "Epoch 19/50\n",
      "50/50 [==============================] - 14s 282ms/step - loss: 0.1427 - accuracy: 0.8275 - val_loss: 0.1636 - val_accuracy: 0.7943\n",
      "Epoch 20/50\n",
      "50/50 [==============================] - 14s 286ms/step - loss: 0.1428 - accuracy: 0.8275 - val_loss: 0.1639 - val_accuracy: 0.7963\n",
      "Epoch 21/50\n",
      "50/50 [==============================] - 14s 281ms/step - loss: 0.1421 - accuracy: 0.8300 - val_loss: 0.1639 - val_accuracy: 0.7904\n",
      "Epoch 22/50\n",
      "50/50 [==============================] - 14s 277ms/step - loss: 0.1415 - accuracy: 0.8292 - val_loss: 0.1616 - val_accuracy: 0.7982\n",
      "Epoch 23/50\n",
      "50/50 [==============================] - 14s 280ms/step - loss: 0.1436 - accuracy: 0.8275 - val_loss: 0.1668 - val_accuracy: 0.7846\n",
      "Epoch 24/50\n",
      "50/50 [==============================] - 14s 280ms/step - loss: 0.1414 - accuracy: 0.8308 - val_loss: 0.1602 - val_accuracy: 0.8002\n",
      "Epoch 25/50\n",
      "50/50 [==============================] - 14s 284ms/step - loss: 0.1406 - accuracy: 0.8317 - val_loss: 0.1590 - val_accuracy: 0.8060\n",
      "Epoch 26/50\n",
      "50/50 [==============================] - 14s 282ms/step - loss: 0.1426 - accuracy: 0.8275 - val_loss: 0.1715 - val_accuracy: 0.7710\n",
      "Epoch 27/50\n",
      "50/50 [==============================] - 14s 283ms/step - loss: 0.1533 - accuracy: 0.8117 - val_loss: 0.1749 - val_accuracy: 0.7729\n",
      "Epoch 28/50\n",
      "50/50 [==============================] - 14s 280ms/step - loss: 0.1461 - accuracy: 0.8217 - val_loss: 0.1625 - val_accuracy: 0.7885\n",
      "Epoch 29/50\n",
      "50/50 [==============================] - 14s 284ms/step - loss: 0.1429 - accuracy: 0.8275 - val_loss: 0.1560 - val_accuracy: 0.8119\n",
      "Epoch 30/50\n",
      "50/50 [==============================] - 14s 278ms/step - loss: 0.1439 - accuracy: 0.8258 - val_loss: 0.1636 - val_accuracy: 0.7924\n",
      "Epoch 31/50\n",
      "50/50 [==============================] - 14s 279ms/step - loss: 0.1448 - accuracy: 0.8258 - val_loss: 0.1730 - val_accuracy: 0.7788\n",
      "Epoch 32/50\n",
      "50/50 [==============================] - 14s 276ms/step - loss: 0.1457 - accuracy: 0.8242 - val_loss: 0.1865 - val_accuracy: 0.7593\n",
      "Epoch 33/50\n",
      "50/50 [==============================] - 14s 278ms/step - loss: 0.1443 - accuracy: 0.8258 - val_loss: 0.1574 - val_accuracy: 0.8041\n",
      "Epoch 34/50\n",
      "50/50 [==============================] - 14s 282ms/step - loss: 0.1422 - accuracy: 0.8292 - val_loss: 0.1559 - val_accuracy: 0.8119\n",
      "Epoch 35/50\n",
      "50/50 [==============================] - 14s 277ms/step - loss: 0.1417 - accuracy: 0.8292 - val_loss: 0.1583 - val_accuracy: 0.8021\n",
      "Epoch 36/50\n",
      "50/50 [==============================] - 14s 276ms/step - loss: 0.1420 - accuracy: 0.8300 - val_loss: 0.1570 - val_accuracy: 0.8099\n"
     ]
    }
   ],
   "source": [
    "#train model\n",
    "training_start_time = time()\n",
    "malstm_trained = model.fit([X_train['left'], X_train['right']], Y_train,\n",
    "                           batch_size=batch_size,epochs=n_epoch,\n",
    "                           validation_data=([X_validation['left'], X_validation['right']], Y_validation),callbacks=[EarlyStopping(monitor='val_loss',patience=7, min_delta=0.0001)])\n",
    "# model.fit(X_train,Y_train, validation_data=(X_validation,Y_validation), epochs=50, verbose=2)\n",
    "# _, train_acc = model.evaluate(X_train,Y_train, verbose=2)\n",
    "# # _, test_acc = model.evaluate(X_validation,Y_validation, verbose=0)\n",
    "# # print('Train: %.3f, Test: %.3f' % (train_acc, test_acc))\n",
    "# print('Train: %.3f' %(train_acc))"
   ]
  },
  {
   "cell_type": "code",
   "execution_count": null,
   "metadata": {
    "colab": {
     "base_uri": "https://localhost:8080/",
     "height": 51
    },
    "colab_type": "code",
    "id": "MnO6yUZ8A63S",
    "outputId": "c0682c4e-042a-45f6-af2f-140b858141e9"
   },
   "outputs": [
    {
     "name": "stdout",
     "output_type": "stream",
     "text": [
      "Training time finished.\n",
      "50 epochs in       658.24\n"
     ]
    }
   ],
   "source": [
    "training_end_time = time()\n",
    "print(\"Training time finished.\\n%d epochs in %12.2f\" % (n_epoch,\n",
    "                                                        training_end_time - training_start_time))"
   ]
  },
  {
   "cell_type": "code",
   "execution_count": null,
   "metadata": {
    "colab": {},
    "colab_type": "code",
    "id": "OD5kSDR7BaNZ"
   },
   "outputs": [],
   "source": [
    "model.save('./data/SiameseLSTM_new20.h5')"
   ]
  },
  {
   "cell_type": "code",
   "execution_count": null,
   "metadata": {
    "colab": {
     "base_uri": "https://localhost:8080/",
     "height": 88
    },
    "colab_type": "code",
    "id": "xX4ICo4LK92u",
    "outputId": "88d7c341-f00a-4232-a7d7-6ab2e9d043f5"
   },
   "outputs": [
    {
     "name": "stderr",
     "output_type": "stream",
     "text": [
      "/usr/local/lib/python3.6/dist-packages/ipykernel_launcher.py:1: MatplotlibDeprecationWarning: Adding an axes using the same arguments as a previous axes currently reuses the earlier instance.  In a future version, a new instance will always be created and returned.  Meanwhile, this warning can be suppressed, and the future behavior ensured, by passing a unique label to each axes instance.\n",
      "  \"\"\"Entry point for launching an IPython kernel.\n"
     ]
    },
    {
     "data": {
      "text/plain": [
       "<matplotlib.legend.Legend at 0x7f1f983badd8>"
      ]
     },
     "execution_count": 66,
     "metadata": {
      "tags": []
     },
     "output_type": "execute_result"
    }
   ],
   "source": [
    "%matplotlib inline\n",
    "plt.plot(malstm_trained.history['accuracy'])\n",
    "plt.plot(malstm_trained.history['val_accuracy'])\n",
    "plt.title('Model Accuracy')\n",
    "plt.ylabel('Accuracy')\n",
    "plt.xlabel('Epoch')\n",
    "plt.legend(['Train', 'Validation'], loc='best')\n",
    "plt.savefig('./data/Accuracy.png')"
   ]
  },
  {
   "cell_type": "code",
   "execution_count": null,
   "metadata": {
    "colab": {
     "base_uri": "https://localhost:8080/",
     "height": 122
    },
    "colab_type": "code",
    "id": "ATDfP32JLAu5",
    "outputId": "0ded0ce4-063b-4673-ec6d-68447ad95a55"
   },
   "outputs": [
    {
     "name": "stdout",
     "output_type": "stream",
     "text": [
      "0.8299(max of accuracy out of all the epochs trained: 0.8316)\n",
      "0.8099(max of val_accuracy of all the epochs trained: 0.8118)\n",
      "Done.\n"
     ]
    },
    {
     "name": "stderr",
     "output_type": "stream",
     "text": [
      "/usr/local/lib/python3.6/dist-packages/ipykernel_launcher.py:1: MatplotlibDeprecationWarning: Adding an axes using the same arguments as a previous axes currently reuses the earlier instance.  In a future version, a new instance will always be created and returned.  Meanwhile, this warning can be suppressed, and the future behavior ensured, by passing a unique label to each axes instance.\n",
      "  \"\"\"Entry point for launching an IPython kernel.\n"
     ]
    }
   ],
   "source": [
    "%matplotlib inline\n",
    "plt.plot(malstm_trained.history['loss'])\n",
    "plt.plot(malstm_trained.history['val_loss'])\n",
    "plt.title('Model Loss')\n",
    "plt.ylabel('Loss')\n",
    "plt.xlabel('Epoch')\n",
    "plt.legend(['Train', 'Validation'], loc='best')\n",
    "plt.savefig('./data/loss.png')\n",
    "\n",
    "print(str(malstm_trained.history['accuracy'][-1])[:6] +\n",
    "      \"(max of accuracy out of all the epochs trained: \" + str(max(malstm_trained.history['accuracy']))[:6] + \")\")\n",
    "\n",
    "print(str(malstm_trained.history['val_accuracy'][-1])[:6] +\n",
    "      \"(max of val_accuracy of all the epochs trained: \" + str(max(malstm_trained.history['val_accuracy']))[:6] + \")\")\n",
    "print(\"Done.\")\n"
   ]
  },
  {
   "cell_type": "code",
   "execution_count": null,
   "metadata": {
    "colab": {},
    "colab_type": "code",
    "id": "IDtKr5YWLP7I"
   },
   "outputs": [],
   "source": []
  }
 ],
 "metadata": {
  "accelerator": "GPU",
  "colab": {
   "collapsed_sections": [],
   "name": "MaLSTM_train.ipynb",
   "provenance": []
  },
  "kernelspec": {
   "display_name": "Python 3",
   "language": "python",
   "name": "python3"
  },
  "language_info": {
   "codemirror_mode": {
    "name": "ipython",
    "version": 3
   },
   "file_extension": ".py",
   "mimetype": "text/x-python",
   "name": "python",
   "nbconvert_exporter": "python",
   "pygments_lexer": "ipython3",
   "version": "3.7.1"
  }
 },
 "nbformat": 4,
 "nbformat_minor": 1
}
