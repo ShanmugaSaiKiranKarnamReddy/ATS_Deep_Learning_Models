{
 "cells": [
  {
   "cell_type": "code",
   "execution_count": 26,
   "metadata": {},
   "outputs": [
    {
     "name": "stdout",
     "output_type": "stream",
     "text": [
      "Enter the path of directory to analyze for duplicatesD:\\Case study1\\Data collection_images\\Saikiran\\Duplicates_folder_check\n",
      "Analyzing the files ....\n",
      "Please open duplicateFile.csv to check and remove the duplicates found\n"
     ]
    }
   ],
   "source": [
    "from __future__ import unicode_literals, print_function\n",
    "from prompt_toolkit import print_formatted_text, HTML\n",
    "import os\n",
    "import datetime\n",
    "import hashlib\n",
    "\n",
    " \n",
    "def get_hash(_file, chunk_size=2048, hash=hashlib.sha512):\n",
    "    hashobj = hash()\n",
    "    with open(_file, 'rb') as file_object:\n",
    "        hashobj.update(file_object.read(chunk_size))\n",
    "        ##for chunk in chunk_reader(file_object, chunk_size=chunk_size):\n",
    "        ##    hashobj.update(chunk)\n",
    "    _hash = hashobj.digest()\n",
    "    return _hash\n",
    " \n",
    "def get_ctime(_file):\n",
    "    return os.path.getctime(_file)\n",
    " \n",
    "def get_size(_file):\n",
    "    return os.path.getsize(_file)\n",
    " \n",
    "def stream_files(path, delete=False):\n",
    "    print('Analyzing the files ....')\n",
    "    unique = {}\n",
    "    for root, dirs, files in os.walk(path):\n",
    "        for _file in files:\n",
    " \n",
    "            file_path = os.path.join(root, _file)\n",
    " \n",
    "            if os.path.isfile(file_path):\n",
    "                _sz = get_size(file_path)\n",
    "                _ct = get_ctime(file_path)\n",
    "                _hd = get_hash(file_path)\n",
    "                key = '%s_%s' % (_hd,_sz)\n",
    "                if key not in unique:\n",
    "                    unique[key] = file_path\n",
    "                    yield 'Unique file,\"%s\",\"%s\",%s,\"%s\"\\n' % (_file,datetime.datetime.fromtimestamp(_ct),_sz,root)\n",
    "                else:\n",
    "                    if delete:\n",
    "                        os.remove(file_path)\n",
    "                    yield 'Duplicate found for ,\"%s\",\"%s\",%s,\"%s\"\\n' % (_file,datetime.datetime.fromtimestamp(_ct),_sz,root)\n",
    "if __name__ == '__main__':\n",
    " \n",
    "    directory = input(\"Enter the path of directory to analyze for duplicates\") # Set the path to the folder you wish to check.\n",
    " \n",
    "    do_deletes = False # False will let you review the log before committing to removal.\n",
    " \n",
    "    log_name = 'duplicateFile'\n",
    " \n",
    "    # ====================================\n",
    "    # No changes needed below this line.\n",
    "    # ====================================\n",
    "    log_file = 'D:/Case study1/Data collection_images/Saikiran/%s_%s.csv' % (log_name, datetime.datetime.now().strftime('%Y%m%d_%H%M%S'))\n",
    " \n",
    "    with open(log_file,'w') as log:\n",
    "        log.write('Stat,File,Created,Size,Path\\n')\n",
    "        for dupe in stream_files(directory, delete=do_deletes):\n",
    "            log.write(dupe)\n",
    "print('Please open duplicateFile.csv to check and remove the duplicates found')"
   ]
  },
  {
   "cell_type": "code",
   "execution_count": null,
   "metadata": {},
   "outputs": [],
   "source": []
  },
  {
   "cell_type": "code",
   "execution_count": null,
   "metadata": {},
   "outputs": [],
   "source": []
  }
 ],
 "metadata": {
  "kernelspec": {
   "display_name": "Python 3",
   "language": "python",
   "name": "python3"
  },
  "language_info": {
   "codemirror_mode": {
    "name": "ipython",
    "version": 3
   },
   "file_extension": ".py",
   "mimetype": "text/x-python",
   "name": "python",
   "nbconvert_exporter": "python",
   "pygments_lexer": "ipython3",
   "version": "3.7.1"
  }
 },
 "nbformat": 4,
 "nbformat_minor": 4
}
